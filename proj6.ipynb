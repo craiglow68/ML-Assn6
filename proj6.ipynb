{
 "cells": [
  {
   "cell_type": "markdown",
   "metadata": {},
   "source": [
    "# Homework 5\n",
    "You need to classify digits with SVM models in this homework. Use PCA to reduce data dimensionality (80% information remain). Compare performance of linear, radial, and polynomial kernals. Tune kernal parameters using Randomsearch method."
   ]
  },
  {
   "cell_type": "code",
   "execution_count": 25,
   "metadata": {
    "scrolled": true
   },
   "outputs": [
    {
     "name": "stdout",
     "output_type": "stream",
     "text": [
      "Linear SVC Accuracy\n",
      "0.9622222222222222\n",
      "Best Parameters\n",
      "{'svc__C': 7.593914594988132}\n",
      "\n",
      "Radial SVC Accuracy\n",
      "0.9777777777777777\n",
      "Best Parameters\n",
      "{'svc__C': 4.232045079327033, 'svc__gamma': 0.0005979394478646771}\n",
      "\n",
      "Polynomial SVC Accuracy\n",
      "0.9777777777777777\n",
      "Best Parameters\n",
      "{'svc__C': 8.101664798982963}\n",
      "\n"
     ]
    },
    {
     "data": {
      "image/png": "[encoded data removed]",
      "text/plain": [
       "<Figure size 432x288 with 1 Axes>"
      ]
     },
     "metadata": {},
     "output_type": "display_data"
    }
   ],
   "source": [
    "%matplotlib inline\n",
    "import numpy as np\n",
    "import matplotlib.pyplot as plt\n",
    "from scipy import stats\n",
    "\n",
    "# use seaborn plotting defaults\n",
    "import seaborn as sns; sns.set()\n",
    "from sklearn import datasets, svm, metrics\n",
    "from sklearn.decomposition import PCA\n",
    "from sklearn.pipeline import make_pipeline\n",
    "from sklearn.model_selection import train_test_split, RandomizedSearchCV\n",
    "\n",
    "# The digits dataset\n",
    "digits = datasets.load_digits()\n",
    "\n",
    "def plot_digits(data):\n",
    "    fig, axes = plt.subplots(4, 10, figsize=(10, 4),\n",
    "                             subplot_kw={'xticks':[], 'yticks':[]},\n",
    "                             gridspec_kw=dict(hspace=0.1, wspace=0.1))\n",
    "    for i, ax in enumerate(axes.flat):\n",
    "        ax.imshow(data[i].reshape(8, 8),\n",
    "                  cmap='binary', interpolation='nearest',\n",
    "                  clim=(0, 16))\n",
    "#plot_digits(digits.data)\n",
    "\n",
    "pca = PCA().fit(digits.data)\n",
    "plt.plot(np.cumsum(pca.explained_variance_ratio_))\n",
    "plt.xlabel('number of components')\n",
    "plt.ylabel('cumulative explained variance');\n",
    "\n",
    "# Return the cumulative sum of the elements along a given axis.\n",
    "a = np.array([[1,2,3], [4,5,6]])\n",
    "np.cumsum(a)\n",
    "\n",
    "Xtrain, Xtest, ytrain, ytest = train_test_split(digits.data, digits.target,\n",
    "                                                random_state=1)\n",
    "\n",
    "\n",
    "#LINEAR\n",
    "linSVM = svm.SVC(kernel='linear')\n",
    "pca = PCA(13)\n",
    "linModel = make_pipeline(pca, linSVM)\n",
    "\n",
    "SVCParameters = {'svc__C': stats.uniform(0.1, 10)}\n",
    "\n",
    "tuneLinModel = RandomizedSearchCV(linModel, SVCParameters, cv=5)\n",
    "\n",
    "tuneLinModel.fit(Xtrain, ytrain)\n",
    "\n",
    "predicted = tuneLinModel.predict(Xtest)\n",
    "\n",
    "print('Linear SVC Accuracy')\n",
    "print(metrics.accuracy_score(ytest,predicted))\n",
    "print(\"Best Parameters\")\n",
    "print(tuneLinModel.best_params_)\n",
    "print()\n",
    "\n",
    "#RADIAL\n",
    "radSVM = svm.SVC(kernel='rbf')\n",
    "radModel = make_pipeline(pca, radSVM)\n",
    "\n",
    "radParameters = {'svc__C': stats.uniform(0.1, 10),\n",
    "                 'svc__gamma': stats.uniform(0.0001, 0.01)}\n",
    "\n",
    "tuneRadModel = RandomizedSearchCV(radModel, radParameters, cv=5)\n",
    "\n",
    "tuneRadModel.fit(Xtrain, ytrain)\n",
    "\n",
    "predicted = tuneRadModel.predict(Xtest)\n",
    "\n",
    "print('Radial SVC Accuracy')\n",
    "print(metrics.accuracy_score(ytest,predicted))\n",
    "print(\"Best Parameters\")\n",
    "print(tuneRadModel.best_params_)\n",
    "print()\n",
    "\n",
    "#POLYNOMIAL\n",
    "\n",
    "polSVM= svm.SVC(kernel='poly')\n",
    "polModel = make_pipeline(pca, polSVM)\n",
    "\n",
    "polParameters = {'svc__C': stats.uniform(0.1, 10)}\n",
    "\n",
    "tunePolModel = RandomizedSearchCV(polModel, polParameters, cv=5)\n",
    "\n",
    "tunePolModel.fit(Xtrain, ytrain)\n",
    "\n",
    "predicted = tunePolModel.predict(Xtest)\n",
    "\n",
    "print('Polynomial SVC Accuracy')\n",
    "print(metrics.accuracy_score(ytest,predicted))\n",
    "print(\"Best Parameters\")\n",
    "print(tunePolModel.best_params_)\n",
    "print()"
   ]
  },
  {
   "cell_type": "code",
   "execution_count": null,
   "metadata": {},
   "outputs": [],
   "source": []
  }
 ],
 "metadata": {
  "kernelspec": {
   "display_name": "Python 3",
   "language": "python",
   "name": "python3"
  },
  "language_info": {
   "codemirror_mode": {
    "name": "ipython",
    "version": 3
   },
   "file_extension": ".py",
   "mimetype": "text/x-python",
   "name": "python",
   "nbconvert_exporter": "python",
   "pygments_lexer": "ipython3",
   "version": "3.8.5"
  }
 },
 "nbformat": 4,
 "nbformat_minor": 2
}
